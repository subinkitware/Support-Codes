{
 "cells": [
  {
   "cell_type": "code",
   "execution_count": 1,
   "metadata": {},
   "outputs": [],
   "source": [
    "# Read and trigger the nuclick.py\n",
    "import nuclickAIModel as aimodel\n",
    "import json\n",
    "\n",
    "# Opening JSON file\n",
    "with open('sample.json', 'r') as openfile:\n",
    "\n",
    "    # Reading from json file\n",
    "    json_object = json.load(openfile)"
   ]
  },
  {
   "cell_type": "code",
   "execution_count": 2,
   "metadata": {},
   "outputs": [
    {
     "name": "stderr",
     "output_type": "stream",
     "text": [
      "/home/local/KHQ/s.erattakulangara/anaconda3/envs/runCustomAI/lib/python3.11/site-packages/torch/cuda/__init__.py:107: UserWarning: CUDA initialization: CUDA unknown error - this may be due to an incorrectly set up environment, e.g. changing env variable CUDA_VISIBLE_DEVICES after program start. Setting the available devices to be zero. (Triggered internally at ../c10/cuda/CUDAFunctions.cpp:109.)\n",
      "  return torch._C._cuda_getDeviceCount() > 0\n",
      "/home/local/KHQ/s.erattakulangara/anaconda3/envs/runCustomAI/lib/python3.11/site-packages/monai/utils/deprecate_utils.py:321: FutureWarning: monai.transforms.io.dictionary LoadImaged.__init__:image_only: Current default value of argument `image_only=False` has been deprecated since version 1.1. It will be changed to `image_only=True` in version 1.3.\n",
      "  warn_deprecated(argname, msg, warning_category)\n"
     ]
    },
    {
     "name": "stdout",
     "output_type": "stream",
     "text": [
      "network output metatensor([0.0762, 0.2985, 0.6154, 0.0100])\n",
      "network output metatensor([3.8454e-07, 2.5464e-08, 9.9999e-01, 5.2718e-06])\n",
      "network output metatensor([3.5885e-04, 3.0815e-04, 9.9910e-01, 2.2839e-04])\n",
      "network output metatensor([1.2953e-05, 4.8888e-07, 9.9998e-01, 6.4230e-06])\n",
      "[2, 2, 2, 2]\n"
     ]
    },
    {
     "data": {
      "text/plain": [
       "[2, 2, 2, 2]"
      ]
     },
     "execution_count": 2,
     "metadata": {},
     "output_type": "execute_result"
    }
   ],
   "source": [
    "aimodel.run_ai_model_inferencing(json_object)"
   ]
  },
  {
   "cell_type": "code",
   "execution_count": 5,
   "metadata": {},
   "outputs": [],
   "source": [
    "#check what's inside the image\n",
    "import numpy as np\n",
    "import matplotlib.pyplot as plt\n",
    "data = np.load('processed.npy')"
   ]
  },
  {
   "cell_type": "code",
   "execution_count": 6,
   "metadata": {},
   "outputs": [
    {
     "data": {
      "text/plain": [
       "(4, 128, 128)"
      ]
     },
     "execution_count": 6,
     "metadata": {},
     "output_type": "execute_result"
    }
   ],
   "source": [
    "data.shape"
   ]
  },
  {
   "cell_type": "code",
   "execution_count": 7,
   "metadata": {},
   "outputs": [
    {
     "data": {
      "text/plain": [
       "<matplotlib.image.AxesImage at 0x7fa627e9abd0>"
      ]
     },
     "execution_count": 7,
     "metadata": {},
     "output_type": "execute_result"
    },
    {
     "data": {
      "image/png": "[encoded data removed]",
      "text/plain": [
       "<Figure size 640x480 with 1 Axes>"
      ]
     },
     "metadata": {},
     "output_type": "display_data"
    }
   ],
   "source": [
    "plt.imshow((data[3,:,:]))"
   ]
  },
  {
   "cell_type": "code",
   "execution_count": 45,
   "metadata": {},
   "outputs": [
    {
     "name": "stderr",
     "output_type": "stream",
     "text": [
      "/home/local/KHQ/s.erattakulangara/anaconda3/envs/runCustomAI/lib/python3.11/site-packages/monai/utils/deprecate_utils.py:321: FutureWarning: monai.transforms.io.dictionary LoadImaged.__init__:image_only: Current default value of argument `image_only=False` has been deprecated since version 1.1. It will be changed to `image_only=True` in version 1.3.\n",
      "  warn_deprecated(argname, msg, warning_category)\n"
     ]
    }
   ],
   "source": [
    "from monai.transforms import LoadImaged, EnsureChannelFirstd, Compose, ScaleIntensityRangeD\n",
    "from monai.data import PILReader\n",
    "from monai.apps.nuclick.transforms import AddLabelAsGuidanced\n",
    "import matplotlib.pyplot as plt\n",
    "import numpy as np\n",
    "from monai.transforms import Transform\n",
    "\n",
    "\n",
    "class BinarizeImage(Transform):\n",
    "    def __init__(self, threshold=128, keys=\"image\",):\n",
    "        super().__init__()\n",
    "        self.threshold = threshold\n",
    "        self.keys = keys\n",
    "\n",
    "    def __call__(self, data):\n",
    "        data[self.keys] = (data[self.keys] >= self.threshold).astype(np.float32)\n",
    "        return data\n",
    "\n",
    "\n",
    "transforms = Compose([\n",
    "    LoadImaged(keys=\"image\", dtype=np.uint8, reader=PILReader(converter=lambda im: im.convert(\"RGB\"))),\n",
    "    LoadImaged(keys=\"label\", dtype=np.uint8, reader=PILReader(converter=lambda im: im.convert(\"L\"))),\n",
    "    EnsureChannelFirstd(keys=(\"image\", \"label\")),\n",
    "    ScaleIntensityRangeD(keys=\"image\", a_min=0.0, a_max=255.0, b_min=-1.0, b_max=1.0),\n",
    "    BinarizeImage(keys=(\"label\"), threshold=128),\n",
    "    AddLabelAsGuidanced(keys=\"image\", source=\"label\"),])\n",
    "\n",
    "input_data = {\"image\": 'image.png', \"label\": 'mask.png'}\n",
    "output_data = transforms(input_data)"
   ]
  },
  {
   "cell_type": "code",
   "execution_count": 46,
   "metadata": {},
   "outputs": [
    {
     "data": {
      "text/plain": [
       "(1, 128, 128)"
      ]
     },
     "execution_count": 46,
     "metadata": {},
     "output_type": "execute_result"
    }
   ],
   "source": [
    "output_data['label'].shape"
   ]
  },
  {
   "cell_type": "code",
   "execution_count": 47,
   "metadata": {},
   "outputs": [
    {
     "data": {
      "text/plain": [
       "<matplotlib.image.AxesImage at 0x7f49fe143e50>"
      ]
     },
     "execution_count": 47,
     "metadata": {},
     "output_type": "execute_result"
    },
    {
     "data": {
      "image/png": "[encoded data removed]",
      "text/plain": [
       "<Figure size 640x480 with 1 Axes>"
      ]
     },
     "metadata": {},
     "output_type": "display_data"
    }
   ],
   "source": [
    "plt.imshow(np.squeeze(output_data['label']))"
   ]
  },
  {
   "cell_type": "code",
   "execution_count": 49,
   "metadata": {},
   "outputs": [
    {
     "data": {
      "text/plain": [
       "array([0., 1.], dtype=float32)"
      ]
     },
     "execution_count": 49,
     "metadata": {},
     "output_type": "execute_result"
    }
   ],
   "source": [
    "np.unique(output_data['label'])"
   ]
  },
  {
   "cell_type": "code",
   "execution_count": null,
   "metadata": {},
   "outputs": [],
   "source": []
  }
 ],
 "metadata": {
  "kernelspec": {
   "display_name": "runCustomAI",
   "language": "python",
   "name": "python3"
  },
  "language_info": {
   "codemirror_mode": {
    "name": "ipython",
    "version": 3
   },
   "file_extension": ".py",
   "mimetype": "text/x-python",
   "name": "python",
   "nbconvert_exporter": "python",
   "pygments_lexer": "ipython3",
   "version": "3.11.4"
  },
  "orig_nbformat": 4
 },
 "nbformat": 4,
 "nbformat_minor": 2
}
