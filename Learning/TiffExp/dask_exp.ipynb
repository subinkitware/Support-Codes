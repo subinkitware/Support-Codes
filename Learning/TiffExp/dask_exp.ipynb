{
 "cells": [
  {
   "cell_type": "code",
   "execution_count": 1,
   "metadata": {},
   "outputs": [
    {
     "data": {
      "text/plain": [
       "array([0, 1, 2, 3, 4, 5, 6, 7, 8, 9])"
      ]
     },
     "execution_count": 1,
     "metadata": {},
     "output_type": "execute_result"
    }
   ],
   "source": [
    "import numpy as np\n",
    "import dask.array as da\n",
    "\n",
    "x = np.arange(10)\n",
    "y = da.from_array(x, chunks=5)\n",
    "y.compute()"
   ]
  },
  {
   "cell_type": "code",
   "execution_count": 4,
   "metadata": {},
   "outputs": [
    {
     "data": {
      "text/plain": [
       "499.5"
      ]
     },
     "execution_count": 4,
     "metadata": {},
     "output_type": "execute_result"
    }
   ],
   "source": [
    "#calculate mean\n",
    "x = np.arange(1000)\n",
    "y = da.from_array(x, chunks=(100))\n",
    "y.mean().compute()"
   ]
  },
  {
   "cell_type": "code",
   "execution_count": 10,
   "metadata": {},
   "outputs": [
    {
     "data": {
      "text/plain": [
       "5"
      ]
     },
     "execution_count": 10,
     "metadata": {},
     "output_type": "execute_result"
    }
   ],
   "source": [
    "#trying dask on adding and sleeping\n",
    "from time import sleep\n",
    "def inc(x):\n",
    "    sleep(1)\n",
    "    return x+1\n",
    "\n",
    "def add(x,y):\n",
    "    sleep(1)\n",
    "    return x+y\n",
    "\n",
    "\n",
    "x = inc(1)\n",
    "y = inc(2)\n",
    "z = add(x,y)\n",
    "z"
   ]
  },
  {
   "cell_type": "code",
   "execution_count": 12,
   "metadata": {},
   "outputs": [
    {
     "data": {
      "text/plain": [
       "5"
      ]
     },
     "execution_count": 12,
     "metadata": {},
     "output_type": "execute_result"
    }
   ],
   "source": [
    "#trying dask on adding and sleeping\n",
    "import dask\n",
    "from time import sleep\n",
    "@dask.delayed\n",
    "def inc(x):\n",
    "    sleep(1)\n",
    "    return x+1\n",
    "\n",
    "@dask.delayed\n",
    "def add(x,y):\n",
    "    sleep(1)\n",
    "    return x+y\n",
    "\n",
    "\n",
    "x = inc(1)\n",
    "y = inc(2)\n",
    "z = add(x,y)\n",
    "z.compute()"
   ]
  },
  {
   "cell_type": "code",
   "execution_count": 20,
   "metadata": {},
   "outputs": [
    {
     "data": {
      "text/plain": [
       "35"
      ]
     },
     "execution_count": 20,
     "metadata": {},
     "output_type": "execute_result"
    }
   ],
   "source": [
    "#parallise a for loop\n",
    "data = np.arange(1,8)\n",
    "\n",
    "def inc(x):\n",
    "    sleep(1)\n",
    "    return x+ 1\n",
    "\n",
    "results = []\n",
    "for x in data:\n",
    "    y = inc(x)\n",
    "    results.append(y)\n",
    "\n",
    "total = sum(results)\n",
    "total\n"
   ]
  },
  {
   "cell_type": "code",
   "execution_count": 22,
   "metadata": {},
   "outputs": [
    {
     "data": {
      "text/plain": [
       "35"
      ]
     },
     "execution_count": 22,
     "metadata": {},
     "output_type": "execute_result"
    }
   ],
   "source": [
    "#parallise a for loop\n",
    "data = np.arange(1,8)\n",
    "\n",
    "@dask.delayed\n",
    "def inc(x):\n",
    "    sleep(1)\n",
    "    return x+ 1\n",
    "\n",
    "results = []\n",
    "for x in data:\n",
    "    y = inc(x)\n",
    "    results.append(y)\n",
    "\n",
    "total = sum(results)\n",
    "\n",
    "total.compute()"
   ]
  },
  {
   "cell_type": "code",
   "execution_count": 24,
   "metadata": {},
   "outputs": [
    {
     "data": {
      "text/plain": [
       "(<POLYGON ((1 1, 1 0.5, 0.5 0.5, 0.5 1, 1 1))>,\n",
       " <POLYGON EMPTY>,\n",
       " <POLYGON ((1.5 1.5, 1.5 1, 1 1, 1 1.5, 1.5 1.5))>)"
      ]
     },
     "execution_count": 24,
     "metadata": {},
     "output_type": "execute_result"
    }
   ],
   "source": [
    "import dask\n",
    "from dask import delayed\n",
    "from shapely.geometry import Polygon\n",
    "from shapely.ops import unary_union\n",
    "\n",
    "# Define a function to calculate the intersection between two polygons\n",
    "def intersect_polygons(poly1, poly2):\n",
    "    return poly1.intersection(poly2).buffer(0)\n",
    "\n",
    "# Generate a list of polygons (replace this with your data)\n",
    "polygons = [\n",
    "    Polygon([(0, 0), (0, 1), (1, 1), (1, 0)]),\n",
    "    Polygon([(0.5, 0.5), (0.5, 1.5), (1.5, 1.5), (1.5, 0.5)]),\n",
    "    Polygon([(1, 1), (1, 2), (2, 2), (2, 1)]),\n",
    "    # Add more polygons here as needed\n",
    "]\n",
    "\n",
    "# Use Dask to parallelize the intersection process\n",
    "def parallel_intersection(polygons):\n",
    "    tasks = []\n",
    "    num_polygons = len(polygons)\n",
    "\n",
    "    for i in range(num_polygons):\n",
    "        for j in range(i + 1, num_polygons):\n",
    "            # Create delayed tasks for each polygon pair intersection\n",
    "            task = delayed(intersect_polygons)(polygons[i], polygons[j])\n",
    "            tasks.append(task)\n",
    "\n",
    "    # Compute the intersections in parallel\n",
    "    return dask.compute(*tasks)\n",
    "\n",
    "# Perform the parallel intersection\n",
    "intersections = parallel_intersection(polygons)\n",
    "intersections\n"
   ]
  },
  {
   "cell_type": "code",
   "execution_count": null,
   "metadata": {},
   "outputs": [],
   "source": []
  }
 ],
 "metadata": {
  "kernelspec": {
   "display_name": "tiffexp",
   "language": "python",
   "name": "python3"
  },
  "language_info": {
   "codemirror_mode": {
    "name": "ipython",
    "version": 3
   },
   "file_extension": ".py",
   "mimetype": "text/x-python",
   "name": "python",
   "nbconvert_exporter": "python",
   "pygments_lexer": "ipython3",
   "version": "3.10.4"
  },
  "orig_nbformat": 4
 },
 "nbformat": 4,
 "nbformat_minor": 2
}
