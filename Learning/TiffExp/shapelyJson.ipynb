{
 "cells": [
  {
   "cell_type": "code",
   "execution_count": 3,
   "metadata": {},
   "outputs": [
    {
     "data": {
      "text/plain": [
       "4"
      ]
     },
     "execution_count": 3,
     "metadata": {},
     "output_type": "execute_result"
    }
   ],
   "source": [
    "import json\n",
    "\n",
    "with open('synthetic_overlap.json', 'r') as json_file:\n",
    "    all_data = json.load(json_file)\n",
    "data = all_data\n",
    "len(data)"
   ]
  },
  {
   "cell_type": "code",
   "execution_count": 4,
   "metadata": {},
   "outputs": [
    {
     "name": "stdout",
     "output_type": "stream",
     "text": [
      "number of merged elements  2\n"
     ]
    }
   ],
   "source": [
    "import matplotlib.pyplot as plt\n",
    "from shapely.geometry import Polygon\n",
    "from matplotlib import pyplot as plt\n",
    "from shapely.ops import unary_union\n",
    "\n",
    "# load all points to one stack\n",
    "pop_list = []\n",
    "merged_polygons = []\n",
    "sample_element = data[0]\n",
    "for i, sample in enumerate(data):\n",
    "    curr_x = max([sublist[0] for sublist in sample['points']])\n",
    "    curr_y = max([sublist[1] for sublist in sample['points']])\n",
    "    for j in range(i+1, len(data)-1):\n",
    "        given_x = max([sublist[0] for sublist in data[j]['points']])\n",
    "        given_y = max([sublist[1] for sublist in data[j]['points']])\n",
    "        if given_x < curr_x+100 and given_y < curr_y + 100:\n",
    "            if Polygon(sample['points']).intersects(Polygon(data[j]['points'])):\n",
    "                merged_polygon = unary_union(\n",
    "                    [Polygon(sample['points']),\n",
    "                     Polygon(data[j]['points'])])\n",
    "                merged_polygons.append(merged_polygon)\n",
    "                if i not in pop_list:\n",
    "                    pop_list.append(i)\n",
    "                if j not in pop_list:\n",
    "                    pop_list.append(j)\n",
    "\n",
    "\n",
    "def remove_indexes(lst, indexes):\n",
    "    # Sort the indexes in descending order\n",
    "    indexes.sort(reverse=True)\n",
    "\n",
    "    # Remove the elements at the specified indexes\n",
    "    for index in indexes:\n",
    "        if 0 <= index < len(lst):\n",
    "            del lst[index]\n",
    "\n",
    "    return lst\n",
    "\n",
    "\n",
    "new_list = remove_indexes(data, pop_list)\n",
    "\n",
    "# convert all the data in merged_polygons to json\n",
    "if merged_polygons:\n",
    "    for elements in merged_polygons:\n",
    "        rlist = list(elements.exterior.coords)\n",
    "        sample_element['points'] = rlist\n",
    "        data.append(sample_element)\n",
    "\n",
    "print('number of merged elements ', len(merged_polygons))"
   ]
  },
  {
   "cell_type": "code",
   "execution_count": 159,
   "metadata": {},
   "outputs": [
    {
     "data": {
      "image/png": "[encoded data removed]",
      "text/plain": [
       "<Figure size 640x480 with 1 Axes>"
      ]
     },
     "metadata": {},
     "output_type": "display_data"
    }
   ],
   "source": [
    "import geopandas as gpd\n",
    "gpd.GeoSeries(merged_polygons).boundary.plot()\n",
    "plt.show()"
   ]
  },
  {
   "cell_type": "code",
   "execution_count": 129,
   "metadata": {},
   "outputs": [
    {
     "data": {
      "image/png": "[encoded data removed]",
      "text/plain": [
       "<Figure size 640x480 with 1 Axes>"
      ]
     },
     "metadata": {},
     "output_type": "display_data"
    }
   ],
   "source": [
    "import geopandas as gpd\n",
    "p1 = Polygon(data[0]['points'])\n",
    "p2 = Polygon(data[1]['points'])\n",
    "p3 = Polygon(data[2]['points'])\n",
    "# # plot them\n",
    "gpd.GeoSeries([p1, p2, p3]).boundary.plot()\n",
    "plt.show()\n",
    "# Polygon(data[2]['points'])"
   ]
  },
  {
   "cell_type": "code",
   "execution_count": 130,
   "metadata": {},
   "outputs": [
    {
     "data": {
      "text/plain": [
       "3"
      ]
     },
     "execution_count": 130,
     "metadata": {},
     "output_type": "execute_result"
    }
   ],
   "source": [
    "len(all_data)"
   ]
  },
  {
   "cell_type": "code",
   "execution_count": 132,
   "metadata": {},
   "outputs": [
    {
     "data": {
      "image/png": "[encoded data removed]",
      "text/plain": [
       "<Figure size 640x480 with 1 Axes>"
      ]
     },
     "metadata": {},
     "output_type": "display_data"
    }
   ],
   "source": [
    "# # plot them\n",
    "import geopandas as gpd\n",
    "p1 = Polygon(all_data[0]['points'])\n",
    "p2 = Polygon(all_data[1]['points'])\n",
    "p3 = Polygon(all_data[2]['points'])\n",
    "gpd.GeoSeries([p1, p2, p3]).boundary.plot()\n",
    "plt.show()"
   ]
  },
  {
   "cell_type": "code",
   "execution_count": null,
   "metadata": {},
   "outputs": [],
   "source": [
    "# convert all the data in merged_polygons to json\n",
    "if merged_polygons:\n",
    "    for elements in merged_polygons:\n",
    "        rlist = list(elements.exterior.coords)\n",
    "        sample_element['points'] = rlist\n",
    "        data.append(sample_element)"
   ]
  },
  {
   "cell_type": "code",
   "execution_count": null,
   "metadata": {},
   "outputs": [],
   "source": [
    "# # plot them\n",
    "import geopandas as gpd\n",
    "p1 = Polygon(data[0]['points'])\n",
    "p2 = Polygon(data[1]['points'])\n",
    "gpd.GeoSeries([p1, p2]).boundary.plot()\n",
    "plt.show()"
   ]
  },
  {
   "cell_type": "code",
   "execution_count": 142,
   "metadata": {},
   "outputs": [
    {
     "data": {
      "text/plain": [
       "{'type': 'polyline',\n",
       " 'points': [(1565.0, 0.0, 0.0),\n",
       "  (1546.0, 0.0, 0.0),\n",
       "  (1546.0, 2.0, 0.0),\n",
       "  (1547.0, 2.0, 0.0),\n",
       "  (1547.0, 3.0, 0.0),\n",
       "  (1548.0, 3.0, 0.0),\n",
       "  (1548.0, 4.0, 0.0),\n",
       "  (1550.0, 4.0, 0.0),\n",
       "  (1550.0, 5.0, 0.0),\n",
       "  (1552.0, 5.0, 0.0),\n",
       "  (1552.0, 6.0, 0.0),\n",
       "  (1554.0, 6.0, 0.0),\n",
       "  (1554.0, 5.0, 0.0),\n",
       "  (1558.0, 5.0, 0.0),\n",
       "  (1558.0, 6.0, 0.0),\n",
       "  (1560.0, 6.0, 0.0),\n",
       "  (1560.0, 5.0, 0.0),\n",
       "  (1562.0, 5.0, 0.0),\n",
       "  (1562.0, 4.0, 0.0),\n",
       "  (1563.0, 4.0, 0.0),\n",
       "  (1563.0, 2.0, 0.0),\n",
       "  (1565.0, 2.0, 0.0),\n",
       "  (1565.0, 0.0, 0.0)],\n",
       " 'closed': True,\n",
       " 'fillColor': 'rgba(0,0,0,0)',\n",
       " 'lineColor': 'rgb(0,255,0)'}"
      ]
     },
     "execution_count": 142,
     "metadata": {},
     "output_type": "execute_result"
    }
   ],
   "source": [
    "data[-1]"
   ]
  },
  {
   "cell_type": "code",
   "execution_count": 24,
   "metadata": {},
   "outputs": [],
   "source": [
    "import matplotlib.pyplot as plt\n",
    "from shapely.geometry import Polygon\n",
    "from matplotlib import pyplot as plt\n",
    "from shapely.ops import unary_union\n",
    "from shapely.validation import make_valid\n",
    "\n",
    "a = [[7224.34, 5902.22, 0.0], [7223.02, 5903.55, 0.0], [7223.02, 5907.53, 0.0], [7221.69, 5907.53, 0.0], [7221.69, 5910.18, 0.0], [7223.02, 5910.18, 0.0], [7223.02, 5915.49, 0.0], [7224.34, 5915.49, 0.0], [7224.34, 5918.14, 0.0], [7223.02, 5918.14, 0.0], [7223.02, 5919.47, 0.0], [7220.36, 5919.47, 0.0], [7220.36, 5918.14, 0.0], [7217.71, 5918.14, 0.0], [7217.71, 5915.49, 0.0], [7216.39, 5915.49, 0.0], [7216.39, 5912.84, 0.0], [7213.74, 5912.84, 0.0], [7213.74, 5911.51, 0.0], [7212.41, 5911.51, 0.0], [7212.41, 5908.86, 0.0], [7211.08, 5908.86, 0.0], [7211.08, 5907.53, 0.0], [7212.41, 5907.53, 0.0], [7212.41, 5904.88, 0.0], [7215.06, 5904.88, 0.0], [7215.06, 5903.55, 0.0], [7216.39, 5903.55, 0.0], [7216.39, 5904.88, 0.0], [7221.69, 5904.88, 0.0], [7221.69, 5903.55, 0.0], [7223.02, 5903.55, 0.0], [7224.34, 5902.22, 0.0]]\n",
    "b = [[7224.34, 5902.82, 0.0], [7223.02, 5902.82, 0.0], [7223.02, 5908.12, 0.0], [7221.69, 5908.12, 0.0], [7221.69, 5910.77, 0.0], [7223.02, 5910.77, 0.0], [7223.02, 5916.07, 0.0], [7224.34, 5916.07, 0.0], [7224.34, 5918.72, 0.0], [7223.02, 5918.72, 0.0], [7223.02, 5920.04, 0.0], [7220.36, 5920.04, 0.0], [7220.36, 5918.72, 0.0], [7217.71, 5918.72, 0.0], [7217.71, 5916.07, 0.0], [7216.39, 5916.07, 0.0], [7216.39, 5913.42, 0.0], [7215.06, 5913.42, 0.0], [7215.06, 5912.09, 0.0], [7212.41, 5912.09, 0.0], [7212.41, 5909.44, 0.0], [7211.08, 5909.44, 0.0], [7211.08, 5908.12, 0.0], [7212.41, 5908.12, 0.0], [7212.41, 5905.47, 0.0], [7215.06, 5905.47, 0.0], [7215.06, 5904.14, 0.0], [7221.69, 5904.14, 0.0], [7221.69, 5902.82, 0.0], [7224.34, 5902.82, 0.0]]\n",
    "\n",
    "p1 = Polygon(a)\n",
    "p2 = Polygon(b)\n",
    "p3 = p2.buffer(0)"
   ]
  },
  {
   "cell_type": "code",
   "execution_count": 25,
   "metadata": {},
   "outputs": [
    {
     "data": {
      "image/svg+xml": [
       "<svg xmlns=\"http://www.w3.org/2000/svg\" xmlns:xlink=\"http://www.w3.org/1999/xlink\" width=\"100.0\" height=\"100.0\" viewBox=\"7210.3912 5902.1312 14.63760000000002 18.597600000000057\" preserveAspectRatio=\"xMinYMin meet\"><g transform=\"matrix(1,0,0,-1,0,11822.86)\"><path fill-rule=\"evenodd\" fill=\"#66cc99\" stroke=\"#555555\" stroke-width=\"0.3719520000000011\" opacity=\"0.6\" d=\"M 7223.02,5902.82 L 7221.69,5902.82 L 7221.69,5904.14 L 7215.06,5904.14 L 7215.06,5905.47 L 7212.41,5905.47 L 7212.41,5908.12 L 7211.08,5908.12 L 7211.08,5909.44 L 7212.41,5909.44 L 7212.41,5912.09 L 7215.06,5912.09 L 7215.06,5913.42 L 7216.39,5913.42 L 7216.39,5916.07 L 7217.71,5916.07 L 7217.71,5918.72 L 7220.36,5918.72 L 7220.36,5920.04 L 7223.02,5920.04 L 7223.02,5918.72 L 7224.34,5918.72 L 7224.34,5916.07 L 7223.02,5916.07 L 7223.02,5910.77 L 7221.69,5910.77 L 7221.69,5908.12 L 7223.02,5908.12 L 7223.02,5902.82 z\" /></g></svg>"
      ],
      "text/plain": [
       "<POLYGON Z ((7223.02 5902.82 0, 7221.69 5902.82 0, 7221.69 5904.14 0, 7215.0...>"
      ]
     },
     "execution_count": 25,
     "metadata": {},
     "output_type": "execute_result"
    }
   ],
   "source": [
    "p3"
   ]
  },
  {
   "cell_type": "code",
   "execution_count": 18,
   "metadata": {},
   "outputs": [
    {
     "name": "stdout",
     "output_type": "stream",
     "text": [
      "POLYGON Z ((7221.69 5902.82 0, 7221.69 5904.14 0, 7215.06 5904.14 0, 7215.06 5905.47 0, 7212.41 5905.47 0, 7212.41 5908.12 0, 7211.08 5908.12 0, 7211.08 5909.44 0, 7212.41 5909.44 0, 7212.41 5912.09 0, 7215.06 5912.09 0, 7215.06 5913.42 0, 7216.39 5913.42 0, 7216.39 5916.07 0, 7217.71 5916.07 0, 7217.71 5918.72 0, 7220.36 5918.72 0, 7220.36 5920.04 0, 7223.02 5920.04 0, 7223.02 5918.72 0, 7224.34 5918.72 0, 7224.34 5916.07 0, 7223.02 5916.07 0, 7223.02 5910.77 0, 7221.69 5910.77 0, 7221.69 5908.12 0, 7223.02 5908.12 0, 7223.02 5902.82 0, 7221.69 5902.82 0))\n",
      "LINESTRING Z (7224.34 5902.82 0, 7223.02 5902.82 0)\n"
     ]
    }
   ],
   "source": [
    "for i in p3.geoms:\n",
    "    print(i)"
   ]
  },
  {
   "cell_type": "code",
   "execution_count": null,
   "metadata": {},
   "outputs": [],
   "source": [
    "# for j in range(i+1, len(data)-1):\n",
    "#     if i >= len(data): break\n",
    "#     if Polygon(sample['points']).intersection(Polygon(data[j]['points'])):\n",
    "#         merged_polygon = unary_union(Polygon(sample['points']),Polygon(data[j]['points']))\n",
    "#         merged_polygons.append(merged_polygon)\n",
    "#         print('merged',i,j)\n",
    "\n",
    "#         if j not in pop_list: pop_list.append(j)\n",
    "#         if i not in pop_list: pop_list.append(i)\n",
    "# print('sample ', i)"
   ]
  },
  {
   "cell_type": "code",
   "execution_count": 28,
   "metadata": {},
   "outputs": [],
   "source": [
    "a = 0\n",
    "b = 2\n",
    "if a==1 and b==2:\n",
    "    print('hi')"
   ]
  },
  {
   "cell_type": "code",
   "execution_count": null,
   "metadata": {},
   "outputs": [],
   "source": []
  }
 ],
 "metadata": {
  "kernelspec": {
   "display_name": "tiffexp",
   "language": "python",
   "name": "python3"
  },
  "language_info": {
   "codemirror_mode": {
    "name": "ipython",
    "version": 3
   },
   "file_extension": ".py",
   "mimetype": "text/x-python",
   "name": "python",
   "nbconvert_exporter": "python",
   "pygments_lexer": "ipython3",
   "version": "3.10.4"
  },
  "orig_nbformat": 4
 },
 "nbformat": 4,
 "nbformat_minor": 2
}
